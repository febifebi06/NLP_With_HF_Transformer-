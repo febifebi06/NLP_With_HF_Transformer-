from transformers import pipeline

# 1. Analisis Sentimen
sentiment_pipeline = pipeline("sentiment-analysis")
text = "Saya sangat senang dengan hasil kerja saya!"
sentiment_result = sentiment_pipeline(text)
print("Analisis Sentimen:", sentiment_result)

# 2. Penerjemahan
translation_pipeline = pipeline("translation_en_to_fr")
text_to_translate = "Hello, how are you?"
translation_result = translation_pipeline(text_to_translate)
print("Penerjemahan:", translation_result)

# 3. Ringkasan Teks
summarization_pipeline = pipeline("summarization")
text_to_summarize = (
    "Hugging Face is creating a tool that democratizes AI. "
    "We are on a journey to advance and democratize artificial intelligence through open source and open science."
)
summary_result = summarization_pipeline(text_to_summarize)
print("Ringkasan:", summary_result)

# 4. Generasi Teks
text_generation_pipeline = pipeline("text-generation")
prompt = "Once upon a time"
generated_text = text_generation_pipeline(prompt, max_length=50, num_return_sequences=1)
print("Generasi Teks:", generated_text)
